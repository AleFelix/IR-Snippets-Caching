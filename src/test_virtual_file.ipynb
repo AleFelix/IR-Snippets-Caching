{
 "cells": [
  {
   "cell_type": "code",
   "execution_count": 1,
   "metadata": {},
   "outputs": [],
   "source": [
    "import cPickle\n",
    "with open(\"/home/ale/Repositorios/IR-Snippet-Caching/processed/index\", mode=\"rb\") as file_index:\n",
    "    index = cPickle.load(file_index)"
   ]
  },
  {
   "cell_type": "code",
   "execution_count": 2,
   "metadata": {},
   "outputs": [
    {
     "name": "stdout",
     "output_type": "stream",
     "text": [
      "clueweb12-0000wb-00-30068\n",
      "Start: 11890638\n",
      "Length: 1391\n"
     ]
    }
   ],
   "source": [
    "for pos, id_doc in enumerate(index):\n",
    "    if pos == 1:\n",
    "        id_document = id_doc\n",
    "        start = index[id_doc][\"start\"]\n",
    "        length = index[id_doc][\"length\"]\n",
    "        print id_document + \"\\nStart: \" + str(start) + \"\\nLength: \" + str(length)\n",
    "        break;"
   ]
  },
  {
   "cell_type": "code",
   "execution_count": 3,
   "metadata": {},
   "outputs": [
    {
     "name": "stdout",
     "output_type": "stream",
     "text": [
      "http,ok,date,fri,feb,gmt,server,apache,last,modified,fri,feb,gmt,etag,d,e,ebb,f,d,accept,ranges,bytes,content,length,connection,close,content,type,text,html,charset,iso,x,pad,avoid,browser,bug,home,advertisers,ppc,registration,ppc,login,directory,home,about,us,contact,us,what,s,new,top,hits,favorites,the,boater,s,directory,home,add,url,add,premium,new,listings,popular,listings,advertise,the,boat,directory,home,the,boat,directory,lists,boat,related,businesses,and,products,from,around,the,globe\n",
      "although,we,specialize,in,the,boat,refinishing,industry,we,accept,submissions,from,any,boat,related,industry,please,use,the,links,below,to,navigate,this,site\n",
      "advanced,directory,home,boats,recreation,other,interesting,websites,site,map,search,engine,blog,select,your,location,alabama,alaska,arizona,arkansas,australia,bahamas,california,canada,china,colorado,connecticut,delaware,florida,georgia,germany,greece,hawaii,illinois,indiana,iowa,kansas,kentucky,louisiana,maine,maryland,massachusetts,michigan,minnesota,mississippi,missouri,new,hampshire,new,jersey,new,york,new,zealand,north,carolina,ohio,oklahoma,panama,rhode,island,saint,vincent,south,carolina,spain,tennessee,texas,trinidad,tobago,turkey,united,kingdom,virginia,washington,wisconsin,wyoming,home,page,contact,page,about,us,copyright,boatdirectory,biz,all,rights,reserved,this,site,designed,and,hosted,by,the,hobby,line\n",
      "internet\n",
      "\n"
     ]
    }
   ],
   "source": [
    "import codecs\n",
    "with codecs.open(\"/home/ale/Repositorios/IR-Snippet-Caching/processed/ClueWeb12_00/0000wb/0000wb-00.txt\",\n",
    "                 mode=\"r\", encoding=\"utf-8\") as file_docs:\n",
    "    file_docs.seek(start)\n",
    "    doc_data = file_docs.read(length)\n",
    "print doc_data"
   ]
  },
  {
   "cell_type": "code",
   "execution_count": 4,
   "metadata": {},
   "outputs": [
    {
     "name": "stdout",
     "output_type": "stream",
     "text": [
      "http,ok,date,fri,feb,gmt,server,apache,last,modified,fri,feb,gmt,etag,d,e,ebb,f,d,accept,ranges,bytes,content,length,connection,close,content,type,text,html,charset,iso,x,pad,avoid,browser,bug,home,advertisers,ppc,registration,ppc,login,directory,home,about,us,contact,us,what,s,new,top,hits,favorites,the,boater,s,directory,home,add,url,add,premium,new,listings,popular,listings,advertise,the,boat,directory,home,the,boat,directory,lists,boat,related,businesses,and,products,from,around,the,globe\n",
      "although,we,specialize,in,the,boat,refinishing,industry,we,accept,submissions,from,any,boat,related,industry,please,use,the,links,below,to,navigate,this,site\n",
      "advanced,directory,home,boats,recreation,other,interesting,websites,site,map,search,engine,blog,select,your,location,alabama,alaska,arizona,arkansas,australia,bahamas,california,canada,china,colorado,connecticut,delaware,florida,georgia,germany,greece,hawaii,illinois,indiana,iowa,kansas,kentucky,louisiana,maine,maryland,massachusetts,michigan,minnesota,mississippi,missouri,new,hampshire,new,jersey,new,york,new,zealand,north,carolina,ohio,oklahoma,panama,rhode,island,saint,vincent,south,carolina,spain,tennessee,texas,trinidad,tobago,turkey,united,kingdom,virginia,washington,wisconsin,wyoming,home,page,contact,page,about,us,copyright,boatdirectory,biz,all,rights,reserved,this,site,designed,and,hosted,by,the,hobby,line\n",
      "internet\n",
      "\n",
      "StringIO: 0.000348806381226s\n",
      "\n",
      "http,ok,date,fri,feb,gmt,server,apache,last,modified,fri,feb,gmt,etag,d,e,ebb,f,d,accept,ranges,bytes,content,length,connection,close,content,type,text,html,charset,iso,x,pad,avoid,browser,bug,home,advertisers,ppc,registration,ppc,login,directory,home,about,us,contact,us,what,s,new,top,hits,favorites,the,boater,s,directory,home,add,url,add,premium,new,listings,popular,listings,advertise,the,boat,directory,home,the,boat,directory,lists,boat,related,businesses,and,products,from,around,the,globe\n",
      "although,we,specialize,in,the,boat,refinishing,industry,we,accept,submissions,from,any,boat,related,industry,please,use,the,links,below,to,navigate,this,site\n",
      "advanced,directory,home,boats,recreation,other,interesting,websites,site,map,search,engine,blog,select,your,location,alabama,alaska,arizona,arkansas,australia,bahamas,california,canada,china,colorado,connecticut,delaware,florida,georgia,germany,greece,hawaii,illinois,indiana,iowa,kansas,kentucky,louisiana,maine,maryland,massachusetts,michigan,minnesota,mississippi,missouri,new,hampshire,new,jersey,new,york,new,zealand,north,carolina,ohio,oklahoma,panama,rhode,island,saint,vincent,south,carolina,spain,tennessee,texas,trinidad,tobago,turkey,united,kingdom,virginia,washington,wisconsin,wyoming,home,page,contact,page,about,us,copyright,boatdirectory,biz,all,rights,reserved,this,site,designed,and,hosted,by,the,hobby,line\n",
      "internet\n",
      "\n",
      "BytesIO: 0.00495004653931s\n"
     ]
    }
   ],
   "source": [
    "import StringIO\n",
    "import io\n",
    "import time\n",
    "with open(\"/home/ale/Repositorios/IR-Snippet-Caching/processed/ClueWeb12_00/0000wb/0000wb-00.txt\", mode=\"rb\") as f_b:\n",
    "    file_binary_data = f_b.read()\n",
    "start_time = time.time()\n",
    "virtual_file = StringIO.StringIO(file_binary_data)\n",
    "virtual_file.seek(start)\n",
    "virtual_doc_data = virtual_file.read(length)\n",
    "print virtual_doc_data\n",
    "virtual_file.close()\n",
    "print \"StringIO: \" + str(time.time() - start_time) + \"s\\n\"\n",
    "start_time = time.time()\n",
    "virtual_file = io.BytesIO(file_binary_data)\n",
    "virtual_file.seek(start)\n",
    "virtual_doc_data = virtual_file.read(length)\n",
    "print virtual_doc_data\n",
    "virtual_file.close()\n",
    "print \"BytesIO: \" + str(time.time() - start_time) + \"s\""
   ]
  },
  {
   "cell_type": "code",
   "execution_count": null,
   "metadata": {},
   "outputs": [],
   "source": []
  }
 ],
 "metadata": {
  "kernelspec": {
   "display_name": "Python 2",
   "language": "python",
   "name": "python2"
  },
  "language_info": {
   "codemirror_mode": {
    "name": "ipython",
    "version": 2
   },
   "file_extension": ".py",
   "mimetype": "text/x-python",
   "name": "python",
   "nbconvert_exporter": "python",
   "pygments_lexer": "ipython2",
   "version": "2.7.12"
  }
 },
 "nbformat": 4,
 "nbformat_minor": 1
}
